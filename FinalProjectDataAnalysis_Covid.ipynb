{
 "cells": [
  {
   "cell_type": "code",
   "execution_count": 1,
   "id": "2ac5e4ad",
   "metadata": {},
   "outputs": [],
   "source": [
    "import pandas as pd\n",
    "import numpy as np\n",
    "from scipy import stats \n",
    "from scipy.stats import ttest_ind\n",
    "import matplotlib.pyplot as plt \n",
    "import math\n",
    "from statsmodels.stats.multicomp import pairwise_tukeyhsd\n",
    "from statsmodels.stats.multicomp import MultiComparison\n",
    "import seaborn as sns\n",
    "import scipy\n",
    "import datetime as dt"
   ]
  },
  {
   "cell_type": "markdown",
   "id": "029b1d13",
   "metadata": {},
   "source": [
    "# Import the data set & View it "
   ]
  },
  {
   "cell_type": "code",
   "execution_count": 18,
   "id": "2a877dd0",
   "metadata": {},
   "outputs": [],
   "source": [
    "Covid19 = pd.read_csv(\"/Users/Aims/Downloads/Covid19.Data - Sheet1.csv\")"
   ]
  },
  {
   "cell_type": "code",
   "execution_count": 19,
   "id": "834125c0",
   "metadata": {},
   "outputs": [
    {
     "data": {
      "text/html": [
       "<div>\n",
       "<style scoped>\n",
       "    .dataframe tbody tr th:only-of-type {\n",
       "        vertical-align: middle;\n",
       "    }\n",
       "\n",
       "    .dataframe tbody tr th {\n",
       "        vertical-align: top;\n",
       "    }\n",
       "\n",
       "    .dataframe thead th {\n",
       "        text-align: right;\n",
       "    }\n",
       "</style>\n",
       "<table border=\"1\" class=\"dataframe\">\n",
       "  <thead>\n",
       "    <tr style=\"text-align: right;\">\n",
       "      <th></th>\n",
       "      <th>Unnamed: 0</th>\n",
       "      <th>Year</th>\n",
       "      <th>Country</th>\n",
       "      <th>Sex</th>\n",
       "      <th>Age.Group</th>\n",
       "      <th>COVID.19.Deaths</th>\n",
       "      <th>Pneumonia.Deaths</th>\n",
       "      <th>MonthR</th>\n",
       "      <th>Age.GroupR</th>\n",
       "    </tr>\n",
       "  </thead>\n",
       "  <tbody>\n",
       "    <tr>\n",
       "      <th>0</th>\n",
       "      <td>11036</td>\n",
       "      <td>2020</td>\n",
       "      <td>United States</td>\n",
       "      <td>1</td>\n",
       "      <td>0-17 years</td>\n",
       "      <td>0</td>\n",
       "      <td>50</td>\n",
       "      <td>Jan</td>\n",
       "      <td>1.0</td>\n",
       "    </tr>\n",
       "    <tr>\n",
       "      <th>1</th>\n",
       "      <td>11040</td>\n",
       "      <td>2020</td>\n",
       "      <td>United States</td>\n",
       "      <td>1</td>\n",
       "      <td>18-29 years</td>\n",
       "      <td>0</td>\n",
       "      <td>75</td>\n",
       "      <td>Jan</td>\n",
       "      <td>2.0</td>\n",
       "    </tr>\n",
       "    <tr>\n",
       "      <th>2</th>\n",
       "      <td>11042</td>\n",
       "      <td>2020</td>\n",
       "      <td>United States</td>\n",
       "      <td>1</td>\n",
       "      <td>30-39 years</td>\n",
       "      <td>0</td>\n",
       "      <td>138</td>\n",
       "      <td>Jan</td>\n",
       "      <td>3.0</td>\n",
       "    </tr>\n",
       "    <tr>\n",
       "      <th>3</th>\n",
       "      <td>11044</td>\n",
       "      <td>2020</td>\n",
       "      <td>United States</td>\n",
       "      <td>1</td>\n",
       "      <td>40-49 years</td>\n",
       "      <td>0</td>\n",
       "      <td>261</td>\n",
       "      <td>Jan</td>\n",
       "      <td>4.0</td>\n",
       "    </tr>\n",
       "    <tr>\n",
       "      <th>4</th>\n",
       "      <td>11046</td>\n",
       "      <td>2020</td>\n",
       "      <td>United States</td>\n",
       "      <td>1</td>\n",
       "      <td>50-64 years</td>\n",
       "      <td>1</td>\n",
       "      <td>1430</td>\n",
       "      <td>Jan</td>\n",
       "      <td>5.0</td>\n",
       "    </tr>\n",
       "    <tr>\n",
       "      <th>...</th>\n",
       "      <td>...</td>\n",
       "      <td>...</td>\n",
       "      <td>...</td>\n",
       "      <td>...</td>\n",
       "      <td>...</td>\n",
       "      <td>...</td>\n",
       "      <td>...</td>\n",
       "      <td>...</td>\n",
       "      <td>...</td>\n",
       "    </tr>\n",
       "    <tr>\n",
       "      <th>411</th>\n",
       "      <td>12336</td>\n",
       "      <td>2022</td>\n",
       "      <td>United States</td>\n",
       "      <td>2</td>\n",
       "      <td>40-49 years</td>\n",
       "      <td>298</td>\n",
       "      <td>204</td>\n",
       "      <td>Feb</td>\n",
       "      <td>4.0</td>\n",
       "    </tr>\n",
       "    <tr>\n",
       "      <th>412</th>\n",
       "      <td>12338</td>\n",
       "      <td>2022</td>\n",
       "      <td>United States</td>\n",
       "      <td>2</td>\n",
       "      <td>50-64 years</td>\n",
       "      <td>1743</td>\n",
       "      <td>1195</td>\n",
       "      <td>Feb</td>\n",
       "      <td>5.0</td>\n",
       "    </tr>\n",
       "    <tr>\n",
       "      <th>413</th>\n",
       "      <td>12340</td>\n",
       "      <td>2022</td>\n",
       "      <td>United States</td>\n",
       "      <td>2</td>\n",
       "      <td>65-74 years</td>\n",
       "      <td>2582</td>\n",
       "      <td>1909</td>\n",
       "      <td>Feb</td>\n",
       "      <td>6.0</td>\n",
       "    </tr>\n",
       "    <tr>\n",
       "      <th>414</th>\n",
       "      <td>12341</td>\n",
       "      <td>2022</td>\n",
       "      <td>United States</td>\n",
       "      <td>2</td>\n",
       "      <td>75-84 years</td>\n",
       "      <td>3152</td>\n",
       "      <td>2220</td>\n",
       "      <td>Feb</td>\n",
       "      <td>7.0</td>\n",
       "    </tr>\n",
       "    <tr>\n",
       "      <th>415</th>\n",
       "      <td>12342</td>\n",
       "      <td>2022</td>\n",
       "      <td>United States</td>\n",
       "      <td>2</td>\n",
       "      <td>85 years and over</td>\n",
       "      <td>3605</td>\n",
       "      <td>2341</td>\n",
       "      <td>Feb</td>\n",
       "      <td>8.0</td>\n",
       "    </tr>\n",
       "  </tbody>\n",
       "</table>\n",
       "<p>416 rows × 9 columns</p>\n",
       "</div>"
      ],
      "text/plain": [
       "     Unnamed: 0  Year       Country   Sex          Age.Group  COVID.19.Deaths  \\\n",
       "0         11036  2020  United States    1         0-17 years                0   \n",
       "1         11040  2020  United States    1        18-29 years                0   \n",
       "2         11042  2020  United States    1        30-39 years                0   \n",
       "3         11044  2020  United States    1        40-49 years                0   \n",
       "4         11046  2020  United States    1        50-64 years                1   \n",
       "..          ...   ...            ...  ...                ...              ...   \n",
       "411       12336  2022  United States    2        40-49 years              298   \n",
       "412       12338  2022  United States    2        50-64 years             1743   \n",
       "413       12340  2022  United States    2        65-74 years             2582   \n",
       "414       12341  2022  United States    2        75-84 years             3152   \n",
       "415       12342  2022  United States    2  85 years and over             3605   \n",
       "\n",
       "     Pneumonia.Deaths MonthR  Age.GroupR  \n",
       "0                  50    Jan         1.0  \n",
       "1                  75    Jan         2.0  \n",
       "2                 138    Jan         3.0  \n",
       "3                 261    Jan         4.0  \n",
       "4                1430    Jan         5.0  \n",
       "..                ...    ...         ...  \n",
       "411               204    Feb         4.0  \n",
       "412              1195    Feb         5.0  \n",
       "413              1909    Feb         6.0  \n",
       "414              2220    Feb         7.0  \n",
       "415              2341    Feb         8.0  \n",
       "\n",
       "[416 rows x 9 columns]"
      ]
     },
     "execution_count": 19,
     "metadata": {},
     "output_type": "execute_result"
    }
   ],
   "source": [
    "Covid19"
   ]
  },
  {
   "cell_type": "code",
   "execution_count": 20,
   "id": "9cad20a5",
   "metadata": {},
   "outputs": [
    {
     "data": {
      "text/plain": [
       "Jan      48\n",
       "Feb      48\n",
       "April    32\n",
       "Oct      32\n",
       "March    32\n",
       "Aug      32\n",
       "July     32\n",
       "Sep      32\n",
       "Dec      32\n",
       "May      32\n",
       "June     32\n",
       "Nov      32\n",
       "Name: MonthR, dtype: int64"
      ]
     },
     "execution_count": 20,
     "metadata": {},
     "output_type": "execute_result"
    }
   ],
   "source": [
    "Covid19.MonthR.value_counts()"
   ]
  },
  {
   "cell_type": "markdown",
   "id": "7720b8e2",
   "metadata": {},
   "source": [
    "## Convert Month and Year to datetime object "
   ]
  },
  {
   "cell_type": "code",
   "execution_count": 21,
   "id": "6ffa594a",
   "metadata": {},
   "outputs": [],
   "source": [
    "MonthDict = {'Jan': 'January', 'Feb': 'February', 'March': 'March', 'April': 'April', 'May': 'May', 'June': 'June', 'July': 'July', 'Aug': 'August', 'Sep': 'September', 'Oct': 'October', 'Nov': 'November', 'Dec': 'December'}\n",
    "Covid19['MonthR'] = Covid19['MonthR'].map(MonthDict)\n",
    "Covid19['Date'] = Covid19.MonthR+' 1, '+Covid19.Year.astype(str)\n",
    "Covid19['Date'] = pd.to_datetime(Covid19['Date'])"
   ]
  },
  {
   "cell_type": "code",
   "execution_count": 22,
   "id": "1f073680",
   "metadata": {},
   "outputs": [
    {
     "data": {
      "text/plain": [
       "January      48\n",
       "February     48\n",
       "April        32\n",
       "December     32\n",
       "March        32\n",
       "July         32\n",
       "May          32\n",
       "June         32\n",
       "September    32\n",
       "October      32\n",
       "August       32\n",
       "November     32\n",
       "Name: MonthR, dtype: int64"
      ]
     },
     "execution_count": 22,
     "metadata": {},
     "output_type": "execute_result"
    }
   ],
   "source": [
    "Covid19.MonthR.value_counts()"
   ]
  },
  {
   "cell_type": "code",
   "execution_count": 23,
   "id": "a4937490",
   "metadata": {
    "scrolled": true
   },
   "outputs": [
    {
     "data": {
      "text/html": [
       "<div>\n",
       "<style scoped>\n",
       "    .dataframe tbody tr th:only-of-type {\n",
       "        vertical-align: middle;\n",
       "    }\n",
       "\n",
       "    .dataframe tbody tr th {\n",
       "        vertical-align: top;\n",
       "    }\n",
       "\n",
       "    .dataframe thead th {\n",
       "        text-align: right;\n",
       "    }\n",
       "</style>\n",
       "<table border=\"1\" class=\"dataframe\">\n",
       "  <thead>\n",
       "    <tr style=\"text-align: right;\">\n",
       "      <th></th>\n",
       "      <th>Unnamed: 0</th>\n",
       "      <th>Year</th>\n",
       "      <th>Country</th>\n",
       "      <th>Sex</th>\n",
       "      <th>Age.Group</th>\n",
       "      <th>COVID.19.Deaths</th>\n",
       "      <th>Pneumonia.Deaths</th>\n",
       "      <th>MonthR</th>\n",
       "      <th>Age.GroupR</th>\n",
       "      <th>Date</th>\n",
       "    </tr>\n",
       "  </thead>\n",
       "  <tbody>\n",
       "    <tr>\n",
       "      <th>0</th>\n",
       "      <td>11036</td>\n",
       "      <td>2020</td>\n",
       "      <td>United States</td>\n",
       "      <td>1</td>\n",
       "      <td>0-17 years</td>\n",
       "      <td>0</td>\n",
       "      <td>50</td>\n",
       "      <td>January</td>\n",
       "      <td>1.0</td>\n",
       "      <td>2020-01-01</td>\n",
       "    </tr>\n",
       "    <tr>\n",
       "      <th>1</th>\n",
       "      <td>11040</td>\n",
       "      <td>2020</td>\n",
       "      <td>United States</td>\n",
       "      <td>1</td>\n",
       "      <td>18-29 years</td>\n",
       "      <td>0</td>\n",
       "      <td>75</td>\n",
       "      <td>January</td>\n",
       "      <td>2.0</td>\n",
       "      <td>2020-01-01</td>\n",
       "    </tr>\n",
       "    <tr>\n",
       "      <th>2</th>\n",
       "      <td>11042</td>\n",
       "      <td>2020</td>\n",
       "      <td>United States</td>\n",
       "      <td>1</td>\n",
       "      <td>30-39 years</td>\n",
       "      <td>0</td>\n",
       "      <td>138</td>\n",
       "      <td>January</td>\n",
       "      <td>3.0</td>\n",
       "      <td>2020-01-01</td>\n",
       "    </tr>\n",
       "    <tr>\n",
       "      <th>3</th>\n",
       "      <td>11044</td>\n",
       "      <td>2020</td>\n",
       "      <td>United States</td>\n",
       "      <td>1</td>\n",
       "      <td>40-49 years</td>\n",
       "      <td>0</td>\n",
       "      <td>261</td>\n",
       "      <td>January</td>\n",
       "      <td>4.0</td>\n",
       "      <td>2020-01-01</td>\n",
       "    </tr>\n",
       "    <tr>\n",
       "      <th>4</th>\n",
       "      <td>11046</td>\n",
       "      <td>2020</td>\n",
       "      <td>United States</td>\n",
       "      <td>1</td>\n",
       "      <td>50-64 years</td>\n",
       "      <td>1</td>\n",
       "      <td>1430</td>\n",
       "      <td>January</td>\n",
       "      <td>5.0</td>\n",
       "      <td>2020-01-01</td>\n",
       "    </tr>\n",
       "  </tbody>\n",
       "</table>\n",
       "</div>"
      ],
      "text/plain": [
       "   Unnamed: 0  Year       Country   Sex    Age.Group  COVID.19.Deaths  \\\n",
       "0       11036  2020  United States    1   0-17 years                0   \n",
       "1       11040  2020  United States    1  18-29 years                0   \n",
       "2       11042  2020  United States    1  30-39 years                0   \n",
       "3       11044  2020  United States    1  40-49 years                0   \n",
       "4       11046  2020  United States    1  50-64 years                1   \n",
       "\n",
       "   Pneumonia.Deaths   MonthR  Age.GroupR       Date  \n",
       "0                50  January         1.0 2020-01-01  \n",
       "1                75  January         2.0 2020-01-01  \n",
       "2               138  January         3.0 2020-01-01  \n",
       "3               261  January         4.0 2020-01-01  \n",
       "4              1430  January         5.0 2020-01-01  "
      ]
     },
     "execution_count": 23,
     "metadata": {},
     "output_type": "execute_result"
    }
   ],
   "source": [
    "Covid19.head()"
   ]
  },
  {
   "cell_type": "code",
   "execution_count": 24,
   "id": "60c01fc4",
   "metadata": {},
   "outputs": [
    {
     "data": {
      "text/plain": [
       "Unnamed: 0                   int64\n",
       "Year                         int64\n",
       "Country                     object\n",
       "Sex                          int64\n",
       "Age.Group                   object\n",
       "COVID.19.Deaths              int64\n",
       "Pneumonia.Deaths             int64\n",
       "MonthR                      object\n",
       "Age.GroupR                 float64\n",
       "Date                datetime64[ns]\n",
       "dtype: object"
      ]
     },
     "execution_count": 24,
     "metadata": {},
     "output_type": "execute_result"
    }
   ],
   "source": [
    "Covid19.dtypes"
   ]
  },
  {
   "cell_type": "code",
   "execution_count": 25,
   "id": "83b34452",
   "metadata": {},
   "outputs": [
    {
     "data": {
      "text/html": [
       "<div>\n",
       "<style scoped>\n",
       "    .dataframe tbody tr th:only-of-type {\n",
       "        vertical-align: middle;\n",
       "    }\n",
       "\n",
       "    .dataframe tbody tr th {\n",
       "        vertical-align: top;\n",
       "    }\n",
       "\n",
       "    .dataframe thead th {\n",
       "        text-align: right;\n",
       "    }\n",
       "</style>\n",
       "<table border=\"1\" class=\"dataframe\">\n",
       "  <thead>\n",
       "    <tr style=\"text-align: right;\">\n",
       "      <th></th>\n",
       "      <th>Unnamed: 0</th>\n",
       "      <th>Year</th>\n",
       "      <th>Country</th>\n",
       "      <th>Sex</th>\n",
       "      <th>Age.Group</th>\n",
       "      <th>COVID.19.Deaths</th>\n",
       "      <th>Pneumonia.Deaths</th>\n",
       "      <th>MonthR</th>\n",
       "      <th>Age.GroupR</th>\n",
       "    </tr>\n",
       "    <tr>\n",
       "      <th>Date</th>\n",
       "      <th></th>\n",
       "      <th></th>\n",
       "      <th></th>\n",
       "      <th></th>\n",
       "      <th></th>\n",
       "      <th></th>\n",
       "      <th></th>\n",
       "      <th></th>\n",
       "      <th></th>\n",
       "    </tr>\n",
       "  </thead>\n",
       "  <tbody>\n",
       "    <tr>\n",
       "      <th>2020-01-01</th>\n",
       "      <td>11036</td>\n",
       "      <td>2020</td>\n",
       "      <td>United States</td>\n",
       "      <td>1</td>\n",
       "      <td>0-17 years</td>\n",
       "      <td>0</td>\n",
       "      <td>50</td>\n",
       "      <td>January</td>\n",
       "      <td>1.0</td>\n",
       "    </tr>\n",
       "    <tr>\n",
       "      <th>2020-01-01</th>\n",
       "      <td>11040</td>\n",
       "      <td>2020</td>\n",
       "      <td>United States</td>\n",
       "      <td>1</td>\n",
       "      <td>18-29 years</td>\n",
       "      <td>0</td>\n",
       "      <td>75</td>\n",
       "      <td>January</td>\n",
       "      <td>2.0</td>\n",
       "    </tr>\n",
       "    <tr>\n",
       "      <th>2020-01-01</th>\n",
       "      <td>11042</td>\n",
       "      <td>2020</td>\n",
       "      <td>United States</td>\n",
       "      <td>1</td>\n",
       "      <td>30-39 years</td>\n",
       "      <td>0</td>\n",
       "      <td>138</td>\n",
       "      <td>January</td>\n",
       "      <td>3.0</td>\n",
       "    </tr>\n",
       "    <tr>\n",
       "      <th>2020-01-01</th>\n",
       "      <td>11044</td>\n",
       "      <td>2020</td>\n",
       "      <td>United States</td>\n",
       "      <td>1</td>\n",
       "      <td>40-49 years</td>\n",
       "      <td>0</td>\n",
       "      <td>261</td>\n",
       "      <td>January</td>\n",
       "      <td>4.0</td>\n",
       "    </tr>\n",
       "    <tr>\n",
       "      <th>2020-01-01</th>\n",
       "      <td>11046</td>\n",
       "      <td>2020</td>\n",
       "      <td>United States</td>\n",
       "      <td>1</td>\n",
       "      <td>50-64 years</td>\n",
       "      <td>1</td>\n",
       "      <td>1430</td>\n",
       "      <td>January</td>\n",
       "      <td>5.0</td>\n",
       "    </tr>\n",
       "  </tbody>\n",
       "</table>\n",
       "</div>"
      ],
      "text/plain": [
       "            Unnamed: 0  Year       Country   Sex    Age.Group  \\\n",
       "Date                                                            \n",
       "2020-01-01       11036  2020  United States    1   0-17 years   \n",
       "2020-01-01       11040  2020  United States    1  18-29 years   \n",
       "2020-01-01       11042  2020  United States    1  30-39 years   \n",
       "2020-01-01       11044  2020  United States    1  40-49 years   \n",
       "2020-01-01       11046  2020  United States    1  50-64 years   \n",
       "\n",
       "            COVID.19.Deaths  Pneumonia.Deaths   MonthR  Age.GroupR  \n",
       "Date                                                                \n",
       "2020-01-01                0                50  January         1.0  \n",
       "2020-01-01                0                75  January         2.0  \n",
       "2020-01-01                0               138  January         3.0  \n",
       "2020-01-01                0               261  January         4.0  \n",
       "2020-01-01                1              1430  January         5.0  "
      ]
     },
     "execution_count": 25,
     "metadata": {},
     "output_type": "execute_result"
    }
   ],
   "source": [
    "Covid19.set_index('Date', inplace=True)\n",
    "Covid19.head()"
   ]
  },
  {
   "cell_type": "code",
   "execution_count": 26,
   "id": "02dce58a",
   "metadata": {},
   "outputs": [],
   "source": [
    "Covid19.to_csv('Covid19_WithDate.csv')"
   ]
  },
  {
   "cell_type": "markdown",
   "id": "0a10e945",
   "metadata": {},
   "source": [
    "### Rename COVID.19Deaths "
   ]
  },
  {
   "cell_type": "code",
   "execution_count": 27,
   "id": "196717e9",
   "metadata": {},
   "outputs": [
    {
     "data": {
      "text/html": [
       "<div>\n",
       "<style scoped>\n",
       "    .dataframe tbody tr th:only-of-type {\n",
       "        vertical-align: middle;\n",
       "    }\n",
       "\n",
       "    .dataframe tbody tr th {\n",
       "        vertical-align: top;\n",
       "    }\n",
       "\n",
       "    .dataframe thead th {\n",
       "        text-align: right;\n",
       "    }\n",
       "</style>\n",
       "<table border=\"1\" class=\"dataframe\">\n",
       "  <thead>\n",
       "    <tr style=\"text-align: right;\">\n",
       "      <th></th>\n",
       "      <th>Unnamed: 0</th>\n",
       "      <th>Year</th>\n",
       "      <th>Country</th>\n",
       "      <th>Sex</th>\n",
       "      <th>Age.Group</th>\n",
       "      <th>CovidDeaths</th>\n",
       "      <th>Pneumonia.Deaths</th>\n",
       "      <th>MonthR</th>\n",
       "      <th>Age.GroupR</th>\n",
       "    </tr>\n",
       "    <tr>\n",
       "      <th>Date</th>\n",
       "      <th></th>\n",
       "      <th></th>\n",
       "      <th></th>\n",
       "      <th></th>\n",
       "      <th></th>\n",
       "      <th></th>\n",
       "      <th></th>\n",
       "      <th></th>\n",
       "      <th></th>\n",
       "    </tr>\n",
       "  </thead>\n",
       "  <tbody>\n",
       "    <tr>\n",
       "      <th>2020-01-01</th>\n",
       "      <td>11036</td>\n",
       "      <td>2020</td>\n",
       "      <td>United States</td>\n",
       "      <td>1</td>\n",
       "      <td>0-17 years</td>\n",
       "      <td>0</td>\n",
       "      <td>50</td>\n",
       "      <td>January</td>\n",
       "      <td>1.0</td>\n",
       "    </tr>\n",
       "    <tr>\n",
       "      <th>2020-01-01</th>\n",
       "      <td>11040</td>\n",
       "      <td>2020</td>\n",
       "      <td>United States</td>\n",
       "      <td>1</td>\n",
       "      <td>18-29 years</td>\n",
       "      <td>0</td>\n",
       "      <td>75</td>\n",
       "      <td>January</td>\n",
       "      <td>2.0</td>\n",
       "    </tr>\n",
       "    <tr>\n",
       "      <th>2020-01-01</th>\n",
       "      <td>11042</td>\n",
       "      <td>2020</td>\n",
       "      <td>United States</td>\n",
       "      <td>1</td>\n",
       "      <td>30-39 years</td>\n",
       "      <td>0</td>\n",
       "      <td>138</td>\n",
       "      <td>January</td>\n",
       "      <td>3.0</td>\n",
       "    </tr>\n",
       "    <tr>\n",
       "      <th>2020-01-01</th>\n",
       "      <td>11044</td>\n",
       "      <td>2020</td>\n",
       "      <td>United States</td>\n",
       "      <td>1</td>\n",
       "      <td>40-49 years</td>\n",
       "      <td>0</td>\n",
       "      <td>261</td>\n",
       "      <td>January</td>\n",
       "      <td>4.0</td>\n",
       "    </tr>\n",
       "    <tr>\n",
       "      <th>2020-01-01</th>\n",
       "      <td>11046</td>\n",
       "      <td>2020</td>\n",
       "      <td>United States</td>\n",
       "      <td>1</td>\n",
       "      <td>50-64 years</td>\n",
       "      <td>1</td>\n",
       "      <td>1430</td>\n",
       "      <td>January</td>\n",
       "      <td>5.0</td>\n",
       "    </tr>\n",
       "    <tr>\n",
       "      <th>...</th>\n",
       "      <td>...</td>\n",
       "      <td>...</td>\n",
       "      <td>...</td>\n",
       "      <td>...</td>\n",
       "      <td>...</td>\n",
       "      <td>...</td>\n",
       "      <td>...</td>\n",
       "      <td>...</td>\n",
       "      <td>...</td>\n",
       "    </tr>\n",
       "    <tr>\n",
       "      <th>2022-02-01</th>\n",
       "      <td>12336</td>\n",
       "      <td>2022</td>\n",
       "      <td>United States</td>\n",
       "      <td>2</td>\n",
       "      <td>40-49 years</td>\n",
       "      <td>298</td>\n",
       "      <td>204</td>\n",
       "      <td>February</td>\n",
       "      <td>4.0</td>\n",
       "    </tr>\n",
       "    <tr>\n",
       "      <th>2022-02-01</th>\n",
       "      <td>12338</td>\n",
       "      <td>2022</td>\n",
       "      <td>United States</td>\n",
       "      <td>2</td>\n",
       "      <td>50-64 years</td>\n",
       "      <td>1743</td>\n",
       "      <td>1195</td>\n",
       "      <td>February</td>\n",
       "      <td>5.0</td>\n",
       "    </tr>\n",
       "    <tr>\n",
       "      <th>2022-02-01</th>\n",
       "      <td>12340</td>\n",
       "      <td>2022</td>\n",
       "      <td>United States</td>\n",
       "      <td>2</td>\n",
       "      <td>65-74 years</td>\n",
       "      <td>2582</td>\n",
       "      <td>1909</td>\n",
       "      <td>February</td>\n",
       "      <td>6.0</td>\n",
       "    </tr>\n",
       "    <tr>\n",
       "      <th>2022-02-01</th>\n",
       "      <td>12341</td>\n",
       "      <td>2022</td>\n",
       "      <td>United States</td>\n",
       "      <td>2</td>\n",
       "      <td>75-84 years</td>\n",
       "      <td>3152</td>\n",
       "      <td>2220</td>\n",
       "      <td>February</td>\n",
       "      <td>7.0</td>\n",
       "    </tr>\n",
       "    <tr>\n",
       "      <th>2022-02-01</th>\n",
       "      <td>12342</td>\n",
       "      <td>2022</td>\n",
       "      <td>United States</td>\n",
       "      <td>2</td>\n",
       "      <td>85 years and over</td>\n",
       "      <td>3605</td>\n",
       "      <td>2341</td>\n",
       "      <td>February</td>\n",
       "      <td>8.0</td>\n",
       "    </tr>\n",
       "  </tbody>\n",
       "</table>\n",
       "<p>416 rows × 9 columns</p>\n",
       "</div>"
      ],
      "text/plain": [
       "            Unnamed: 0  Year       Country   Sex          Age.Group  \\\n",
       "Date                                                                  \n",
       "2020-01-01       11036  2020  United States    1         0-17 years   \n",
       "2020-01-01       11040  2020  United States    1        18-29 years   \n",
       "2020-01-01       11042  2020  United States    1        30-39 years   \n",
       "2020-01-01       11044  2020  United States    1        40-49 years   \n",
       "2020-01-01       11046  2020  United States    1        50-64 years   \n",
       "...                ...   ...            ...  ...                ...   \n",
       "2022-02-01       12336  2022  United States    2        40-49 years   \n",
       "2022-02-01       12338  2022  United States    2        50-64 years   \n",
       "2022-02-01       12340  2022  United States    2        65-74 years   \n",
       "2022-02-01       12341  2022  United States    2        75-84 years   \n",
       "2022-02-01       12342  2022  United States    2  85 years and over   \n",
       "\n",
       "            CovidDeaths  Pneumonia.Deaths    MonthR  Age.GroupR  \n",
       "Date                                                             \n",
       "2020-01-01            0                50   January         1.0  \n",
       "2020-01-01            0                75   January         2.0  \n",
       "2020-01-01            0               138   January         3.0  \n",
       "2020-01-01            0               261   January         4.0  \n",
       "2020-01-01            1              1430   January         5.0  \n",
       "...                 ...               ...       ...         ...  \n",
       "2022-02-01          298               204  February         4.0  \n",
       "2022-02-01         1743              1195  February         5.0  \n",
       "2022-02-01         2582              1909  February         6.0  \n",
       "2022-02-01         3152              2220  February         7.0  \n",
       "2022-02-01         3605              2341  February         8.0  \n",
       "\n",
       "[416 rows x 9 columns]"
      ]
     },
     "execution_count": 27,
     "metadata": {},
     "output_type": "execute_result"
    }
   ],
   "source": [
    "Covid19.rename({\"COVID.19.Deaths\" : \"CovidDeaths\"}, axis=1, inplace=True)\n",
    "Covid19"
   ]
  },
  {
   "cell_type": "code",
   "execution_count": 28,
   "id": "669c402c",
   "metadata": {},
   "outputs": [
    {
     "data": {
      "text/html": [
       "<div>\n",
       "<style scoped>\n",
       "    .dataframe tbody tr th:only-of-type {\n",
       "        vertical-align: middle;\n",
       "    }\n",
       "\n",
       "    .dataframe tbody tr th {\n",
       "        vertical-align: top;\n",
       "    }\n",
       "\n",
       "    .dataframe thead th {\n",
       "        text-align: right;\n",
       "    }\n",
       "</style>\n",
       "<table border=\"1\" class=\"dataframe\">\n",
       "  <thead>\n",
       "    <tr style=\"text-align: right;\">\n",
       "      <th></th>\n",
       "      <th>Unnamed: 0</th>\n",
       "      <th>Year</th>\n",
       "      <th>Country</th>\n",
       "      <th>Sex</th>\n",
       "      <th>Age.Group</th>\n",
       "      <th>CovidDeaths</th>\n",
       "      <th>PneumoniaDeaths</th>\n",
       "      <th>MonthR</th>\n",
       "      <th>Age.GroupR</th>\n",
       "    </tr>\n",
       "    <tr>\n",
       "      <th>Date</th>\n",
       "      <th></th>\n",
       "      <th></th>\n",
       "      <th></th>\n",
       "      <th></th>\n",
       "      <th></th>\n",
       "      <th></th>\n",
       "      <th></th>\n",
       "      <th></th>\n",
       "      <th></th>\n",
       "    </tr>\n",
       "  </thead>\n",
       "  <tbody>\n",
       "    <tr>\n",
       "      <th>2020-01-01</th>\n",
       "      <td>11036</td>\n",
       "      <td>2020</td>\n",
       "      <td>United States</td>\n",
       "      <td>1</td>\n",
       "      <td>0-17 years</td>\n",
       "      <td>0</td>\n",
       "      <td>50</td>\n",
       "      <td>January</td>\n",
       "      <td>1.0</td>\n",
       "    </tr>\n",
       "    <tr>\n",
       "      <th>2020-01-01</th>\n",
       "      <td>11040</td>\n",
       "      <td>2020</td>\n",
       "      <td>United States</td>\n",
       "      <td>1</td>\n",
       "      <td>18-29 years</td>\n",
       "      <td>0</td>\n",
       "      <td>75</td>\n",
       "      <td>January</td>\n",
       "      <td>2.0</td>\n",
       "    </tr>\n",
       "    <tr>\n",
       "      <th>2020-01-01</th>\n",
       "      <td>11042</td>\n",
       "      <td>2020</td>\n",
       "      <td>United States</td>\n",
       "      <td>1</td>\n",
       "      <td>30-39 years</td>\n",
       "      <td>0</td>\n",
       "      <td>138</td>\n",
       "      <td>January</td>\n",
       "      <td>3.0</td>\n",
       "    </tr>\n",
       "    <tr>\n",
       "      <th>2020-01-01</th>\n",
       "      <td>11044</td>\n",
       "      <td>2020</td>\n",
       "      <td>United States</td>\n",
       "      <td>1</td>\n",
       "      <td>40-49 years</td>\n",
       "      <td>0</td>\n",
       "      <td>261</td>\n",
       "      <td>January</td>\n",
       "      <td>4.0</td>\n",
       "    </tr>\n",
       "    <tr>\n",
       "      <th>2020-01-01</th>\n",
       "      <td>11046</td>\n",
       "      <td>2020</td>\n",
       "      <td>United States</td>\n",
       "      <td>1</td>\n",
       "      <td>50-64 years</td>\n",
       "      <td>1</td>\n",
       "      <td>1430</td>\n",
       "      <td>January</td>\n",
       "      <td>5.0</td>\n",
       "    </tr>\n",
       "    <tr>\n",
       "      <th>...</th>\n",
       "      <td>...</td>\n",
       "      <td>...</td>\n",
       "      <td>...</td>\n",
       "      <td>...</td>\n",
       "      <td>...</td>\n",
       "      <td>...</td>\n",
       "      <td>...</td>\n",
       "      <td>...</td>\n",
       "      <td>...</td>\n",
       "    </tr>\n",
       "    <tr>\n",
       "      <th>2022-02-01</th>\n",
       "      <td>12336</td>\n",
       "      <td>2022</td>\n",
       "      <td>United States</td>\n",
       "      <td>2</td>\n",
       "      <td>40-49 years</td>\n",
       "      <td>298</td>\n",
       "      <td>204</td>\n",
       "      <td>February</td>\n",
       "      <td>4.0</td>\n",
       "    </tr>\n",
       "    <tr>\n",
       "      <th>2022-02-01</th>\n",
       "      <td>12338</td>\n",
       "      <td>2022</td>\n",
       "      <td>United States</td>\n",
       "      <td>2</td>\n",
       "      <td>50-64 years</td>\n",
       "      <td>1743</td>\n",
       "      <td>1195</td>\n",
       "      <td>February</td>\n",
       "      <td>5.0</td>\n",
       "    </tr>\n",
       "    <tr>\n",
       "      <th>2022-02-01</th>\n",
       "      <td>12340</td>\n",
       "      <td>2022</td>\n",
       "      <td>United States</td>\n",
       "      <td>2</td>\n",
       "      <td>65-74 years</td>\n",
       "      <td>2582</td>\n",
       "      <td>1909</td>\n",
       "      <td>February</td>\n",
       "      <td>6.0</td>\n",
       "    </tr>\n",
       "    <tr>\n",
       "      <th>2022-02-01</th>\n",
       "      <td>12341</td>\n",
       "      <td>2022</td>\n",
       "      <td>United States</td>\n",
       "      <td>2</td>\n",
       "      <td>75-84 years</td>\n",
       "      <td>3152</td>\n",
       "      <td>2220</td>\n",
       "      <td>February</td>\n",
       "      <td>7.0</td>\n",
       "    </tr>\n",
       "    <tr>\n",
       "      <th>2022-02-01</th>\n",
       "      <td>12342</td>\n",
       "      <td>2022</td>\n",
       "      <td>United States</td>\n",
       "      <td>2</td>\n",
       "      <td>85 years and over</td>\n",
       "      <td>3605</td>\n",
       "      <td>2341</td>\n",
       "      <td>February</td>\n",
       "      <td>8.0</td>\n",
       "    </tr>\n",
       "  </tbody>\n",
       "</table>\n",
       "<p>416 rows × 9 columns</p>\n",
       "</div>"
      ],
      "text/plain": [
       "            Unnamed: 0  Year       Country   Sex          Age.Group  \\\n",
       "Date                                                                  \n",
       "2020-01-01       11036  2020  United States    1         0-17 years   \n",
       "2020-01-01       11040  2020  United States    1        18-29 years   \n",
       "2020-01-01       11042  2020  United States    1        30-39 years   \n",
       "2020-01-01       11044  2020  United States    1        40-49 years   \n",
       "2020-01-01       11046  2020  United States    1        50-64 years   \n",
       "...                ...   ...            ...  ...                ...   \n",
       "2022-02-01       12336  2022  United States    2        40-49 years   \n",
       "2022-02-01       12338  2022  United States    2        50-64 years   \n",
       "2022-02-01       12340  2022  United States    2        65-74 years   \n",
       "2022-02-01       12341  2022  United States    2        75-84 years   \n",
       "2022-02-01       12342  2022  United States    2  85 years and over   \n",
       "\n",
       "            CovidDeaths  PneumoniaDeaths    MonthR  Age.GroupR  \n",
       "Date                                                            \n",
       "2020-01-01            0               50   January         1.0  \n",
       "2020-01-01            0               75   January         2.0  \n",
       "2020-01-01            0              138   January         3.0  \n",
       "2020-01-01            0              261   January         4.0  \n",
       "2020-01-01            1             1430   January         5.0  \n",
       "...                 ...              ...       ...         ...  \n",
       "2022-02-01          298              204  February         4.0  \n",
       "2022-02-01         1743             1195  February         5.0  \n",
       "2022-02-01         2582             1909  February         6.0  \n",
       "2022-02-01         3152             2220  February         7.0  \n",
       "2022-02-01         3605             2341  February         8.0  \n",
       "\n",
       "[416 rows x 9 columns]"
      ]
     },
     "execution_count": 28,
     "metadata": {},
     "output_type": "execute_result"
    }
   ],
   "source": [
    "Covid19.rename({\"Pneumonia.Deaths\" : \"PneumoniaDeaths\"}, axis=1, inplace=True)\n",
    "Covid19"
   ]
  },
  {
   "cell_type": "markdown",
   "id": "0474c162",
   "metadata": {},
   "source": [
    "### Plot histogram for Covid deaths to see if data is normally distributed for each year"
   ]
  },
  {
   "cell_type": "code",
   "execution_count": 29,
   "id": "3f9c9981",
   "metadata": {},
   "outputs": [
    {
     "data": {
      "text/plain": [
       "<AxesSubplot:>"
      ]
     },
     "execution_count": 29,
     "metadata": {},
     "output_type": "execute_result"
    },
    {
     "data": {
      "image/png": "[encoded data removed]",
      "text/plain": [
       "<Figure size 432x288 with 1 Axes>"
      ]
     },
     "metadata": {
      "needs_background": "light"
     },
     "output_type": "display_data"
    }
   ],
   "source": [
    "Covid19.CovidDeaths[Covid19.Year == 2020].hist()"
   ]
  },
  {
   "cell_type": "code",
   "execution_count": 30,
   "id": "f34bf0a1",
   "metadata": {},
   "outputs": [
    {
     "data": {
      "text/plain": [
       "<AxesSubplot:>"
      ]
     },
     "execution_count": 30,
     "metadata": {},
     "output_type": "execute_result"
    },
    {
     "data": {
      "image/png": "[encoded data removed]",
      "text/plain": [
       "<Figure size 432x288 with 1 Axes>"
      ]
     },
     "metadata": {
      "needs_background": "light"
     },
     "output_type": "display_data"
    }
   ],
   "source": [
    "Covid19.CovidDeaths[Covid19.Year == 2021].hist()"
   ]
  },
  {
   "cell_type": "code",
   "execution_count": 31,
   "id": "850cc8d0",
   "metadata": {},
   "outputs": [
    {
     "data": {
      "text/plain": [
       "<AxesSubplot:>"
      ]
     },
     "execution_count": 31,
     "metadata": {},
     "output_type": "execute_result"
    },
    {
     "data": {
      "image/png": "[encoded data removed]",
      "text/plain": [
       "<Figure size 432x288 with 1 Axes>"
      ]
     },
     "metadata": {
      "needs_background": "light"
     },
     "output_type": "display_data"
    }
   ],
   "source": [
    "Covid19.CovidDeaths[Covid19.Year == 2022].hist()"
   ]
  },
  {
   "cell_type": "markdown",
   "id": "60300e34",
   "metadata": {},
   "source": [
    "##### COVID.19.Deaths are not evenly distributed for any year"
   ]
  },
  {
   "cell_type": "markdown",
   "id": "f21a1c65",
   "metadata": {},
   "source": [
    "## check to data to see if everything is an integer "
   ]
  },
  {
   "cell_type": "code",
   "execution_count": 32,
   "id": "c9a0debf",
   "metadata": {},
   "outputs": [
    {
     "data": {
      "text/plain": [
       "Unnamed: 0           int64\n",
       "Year                 int64\n",
       "Country             object\n",
       "Sex                  int64\n",
       "Age.Group           object\n",
       "CovidDeaths          int64\n",
       "PneumoniaDeaths      int64\n",
       "MonthR              object\n",
       "Age.GroupR         float64\n",
       "dtype: object"
      ]
     },
     "execution_count": 32,
     "metadata": {},
     "output_type": "execute_result"
    }
   ],
   "source": [
    "Covid19.dtypes"
   ]
  },
  {
   "cell_type": "markdown",
   "id": "2f99805e",
   "metadata": {},
   "source": [
    "## run dependent t test to see if there is a significant difference in COVID 19 deaths from 2020-2022\n",
    "\n",
    "### Were there more deaths in the beginning of the Covid-19 pandemic then there are in the end of 2021 now that 66% of Americas population is now vaccinated?\n",
    "\n",
    "#### Null: there is not a significant difference in COVID 19 deaths from 2020-2021 now that 66% of Amercas population is vaccinated.\n",
    "#### Alternative: there is a significant difference in COVID 19 deaths from 2020-2021 now that 66% of Americas population is vaccinated."
   ]
  },
  {
   "cell_type": "code",
   "execution_count": 33,
   "id": "10693881",
   "metadata": {},
   "outputs": [
    {
     "data": {
      "text/plain": [
       "Ttest_relResult(statistic=-1.3289567699656946, pvalue=0.18544760794739706)"
      ]
     },
     "execution_count": 33,
     "metadata": {},
     "output_type": "execute_result"
    }
   ],
   "source": [
    "stats.ttest_rel(Covid19.CovidDeaths[Covid19.Year == 2020],\n",
    "         Covid19.CovidDeaths[Covid19.Year == 2021])"
   ]
  },
  {
   "cell_type": "markdown",
   "id": "320ab49a",
   "metadata": {},
   "source": [
    "#### P-value @ 0.19 accept the null hypothese since p-value is greater than .05: this means that there is not a significant difference in the amount of covid deaths from year 2020 to year 2021.\n",
    "\n",
    "### Could this mean treatment for Covid-19 in the US is not helping?\n",
    "\n",
    "### Could this mean that COVID-19 vaccinations are not helping to prevent COVID-19?"
   ]
  },
  {
   "cell_type": "markdown",
   "id": "7eef9239",
   "metadata": {},
   "source": [
    "## run dependent t test to see if there is a significant difference in Pneumonia deaths from 2020-2022\n",
    "### Were there more deaths in the beginning of the Pneumonia pandemic then there are in the end of 2021?\n",
    "#### Null: there is not a significant difference in Pneumonia deaths from 2020-2021 \n",
    "#### Alternative: there is a significant difference in Pneumonia deaths from 2020-2021 "
   ]
  },
  {
   "cell_type": "code",
   "execution_count": 34,
   "id": "d8e7e49d",
   "metadata": {},
   "outputs": [
    {
     "data": {
      "text/plain": [
       "Ttest_relResult(statistic=-2.0397656528373704, pvalue=0.04275068793465282)"
      ]
     },
     "execution_count": 34,
     "metadata": {},
     "output_type": "execute_result"
    }
   ],
   "source": [
    "stats.ttest_rel(Covid19.PneumoniaDeaths[Covid19.Year == 2020],\n",
    "         Covid19.PneumoniaDeaths[Covid19.Year == 2021])"
   ]
  },
  {
   "cell_type": "markdown",
   "id": "38fbb5b3",
   "metadata": {},
   "source": [
    "### p-value is < 0.05 meaning that you reject the null hypothesis \n",
    "#### Thre is a signficant difference in the amount of pneumonia deaths from 2020-2021"
   ]
  },
  {
   "cell_type": "markdown",
   "id": "21bf5bea",
   "metadata": {},
   "source": [
    "##### change month and year to a datetime object to see how it looks on a graph "
   ]
  },
  {
   "cell_type": "markdown",
   "id": "96abf7b2",
   "metadata": {},
   "source": [
    "## Run a pearsons correlation test to compare COVID-19 Deaths to Pneumonia Deaths\n",
    "### Manova of covid deaths by age and manova of pnuemonia deahts by age: pnuemonia deaths pre covid vs pnuemonia deaths post deaths \n",
    "### How likely is it that you will develop pneumonia while having Covid-19?\n",
    "\n",
    "#### Null: It is not likely that you will develop pneumonia while having Covid-19.\n",
    "#### Alternative: It is likely that you will develop pneumonia while having Covid-19."
   ]
  },
  {
   "cell_type": "code",
   "execution_count": 36,
   "id": "32d931ea",
   "metadata": {},
   "outputs": [
    {
     "ename": "KeyError",
     "evalue": "'Pneumonia.Deaths'",
     "output_type": "error",
     "traceback": [
      "\u001b[0;31m---------------------------------------------------------------------------\u001b[0m",
      "\u001b[0;31mKeyError\u001b[0m                                  Traceback (most recent call last)",
      "\u001b[0;32m~/opt/anaconda3/lib/python3.8/site-packages/pandas/core/indexes/base.py\u001b[0m in \u001b[0;36mget_loc\u001b[0;34m(self, key, method, tolerance)\u001b[0m\n\u001b[1;32m   3079\u001b[0m             \u001b[0;32mtry\u001b[0m\u001b[0;34m:\u001b[0m\u001b[0;34m\u001b[0m\u001b[0;34m\u001b[0m\u001b[0m\n\u001b[0;32m-> 3080\u001b[0;31m                 \u001b[0;32mreturn\u001b[0m \u001b[0mself\u001b[0m\u001b[0;34m.\u001b[0m\u001b[0m_engine\u001b[0m\u001b[0;34m.\u001b[0m\u001b[0mget_loc\u001b[0m\u001b[0;34m(\u001b[0m\u001b[0mcasted_key\u001b[0m\u001b[0;34m)\u001b[0m\u001b[0;34m\u001b[0m\u001b[0;34m\u001b[0m\u001b[0m\n\u001b[0m\u001b[1;32m   3081\u001b[0m             \u001b[0;32mexcept\u001b[0m \u001b[0mKeyError\u001b[0m \u001b[0;32mas\u001b[0m \u001b[0merr\u001b[0m\u001b[0;34m:\u001b[0m\u001b[0;34m\u001b[0m\u001b[0;34m\u001b[0m\u001b[0m\n",
      "\u001b[0;32mpandas/_libs/index.pyx\u001b[0m in \u001b[0;36mpandas._libs.index.IndexEngine.get_loc\u001b[0;34m()\u001b[0m\n",
      "\u001b[0;32mpandas/_libs/index.pyx\u001b[0m in \u001b[0;36mpandas._libs.index.IndexEngine.get_loc\u001b[0;34m()\u001b[0m\n",
      "\u001b[0;32mpandas/_libs/hashtable_class_helper.pxi\u001b[0m in \u001b[0;36mpandas._libs.hashtable.PyObjectHashTable.get_item\u001b[0;34m()\u001b[0m\n",
      "\u001b[0;32mpandas/_libs/hashtable_class_helper.pxi\u001b[0m in \u001b[0;36mpandas._libs.hashtable.PyObjectHashTable.get_item\u001b[0;34m()\u001b[0m\n",
      "\u001b[0;31mKeyError\u001b[0m: 'Pneumonia.Deaths'",
      "\nThe above exception was the direct cause of the following exception:\n",
      "\u001b[0;31mKeyError\u001b[0m                                  Traceback (most recent call last)",
      "\u001b[0;32m<ipython-input-36-17b7207e82e8>\u001b[0m in \u001b[0;36m<module>\u001b[0;34m\u001b[0m\n\u001b[0;32m----> 1\u001b[0;31m \u001b[0mCovid19\u001b[0m\u001b[0;34m[\u001b[0m\u001b[0;34m'CovidDeaths'\u001b[0m\u001b[0;34m]\u001b[0m\u001b[0;34m.\u001b[0m\u001b[0mcorr\u001b[0m\u001b[0;34m(\u001b[0m\u001b[0mCovid19\u001b[0m\u001b[0;34m[\u001b[0m\u001b[0;34m'Pneumonia.Deaths'\u001b[0m\u001b[0;34m]\u001b[0m\u001b[0;34m)\u001b[0m\u001b[0;34m\u001b[0m\u001b[0;34m\u001b[0m\u001b[0m\n\u001b[0m",
      "\u001b[0;32m~/opt/anaconda3/lib/python3.8/site-packages/pandas/core/frame.py\u001b[0m in \u001b[0;36m__getitem__\u001b[0;34m(self, key)\u001b[0m\n\u001b[1;32m   3022\u001b[0m             \u001b[0;32mif\u001b[0m \u001b[0mself\u001b[0m\u001b[0;34m.\u001b[0m\u001b[0mcolumns\u001b[0m\u001b[0;34m.\u001b[0m\u001b[0mnlevels\u001b[0m \u001b[0;34m>\u001b[0m \u001b[0;36m1\u001b[0m\u001b[0;34m:\u001b[0m\u001b[0;34m\u001b[0m\u001b[0;34m\u001b[0m\u001b[0m\n\u001b[1;32m   3023\u001b[0m                 \u001b[0;32mreturn\u001b[0m \u001b[0mself\u001b[0m\u001b[0;34m.\u001b[0m\u001b[0m_getitem_multilevel\u001b[0m\u001b[0;34m(\u001b[0m\u001b[0mkey\u001b[0m\u001b[0;34m)\u001b[0m\u001b[0;34m\u001b[0m\u001b[0;34m\u001b[0m\u001b[0m\n\u001b[0;32m-> 3024\u001b[0;31m             \u001b[0mindexer\u001b[0m \u001b[0;34m=\u001b[0m \u001b[0mself\u001b[0m\u001b[0;34m.\u001b[0m\u001b[0mcolumns\u001b[0m\u001b[0;34m.\u001b[0m\u001b[0mget_loc\u001b[0m\u001b[0;34m(\u001b[0m\u001b[0mkey\u001b[0m\u001b[0;34m)\u001b[0m\u001b[0;34m\u001b[0m\u001b[0;34m\u001b[0m\u001b[0m\n\u001b[0m\u001b[1;32m   3025\u001b[0m             \u001b[0;32mif\u001b[0m \u001b[0mis_integer\u001b[0m\u001b[0;34m(\u001b[0m\u001b[0mindexer\u001b[0m\u001b[0;34m)\u001b[0m\u001b[0;34m:\u001b[0m\u001b[0;34m\u001b[0m\u001b[0;34m\u001b[0m\u001b[0m\n\u001b[1;32m   3026\u001b[0m                 \u001b[0mindexer\u001b[0m \u001b[0;34m=\u001b[0m \u001b[0;34m[\u001b[0m\u001b[0mindexer\u001b[0m\u001b[0;34m]\u001b[0m\u001b[0;34m\u001b[0m\u001b[0;34m\u001b[0m\u001b[0m\n",
      "\u001b[0;32m~/opt/anaconda3/lib/python3.8/site-packages/pandas/core/indexes/base.py\u001b[0m in \u001b[0;36mget_loc\u001b[0;34m(self, key, method, tolerance)\u001b[0m\n\u001b[1;32m   3080\u001b[0m                 \u001b[0;32mreturn\u001b[0m \u001b[0mself\u001b[0m\u001b[0;34m.\u001b[0m\u001b[0m_engine\u001b[0m\u001b[0;34m.\u001b[0m\u001b[0mget_loc\u001b[0m\u001b[0;34m(\u001b[0m\u001b[0mcasted_key\u001b[0m\u001b[0;34m)\u001b[0m\u001b[0;34m\u001b[0m\u001b[0;34m\u001b[0m\u001b[0m\n\u001b[1;32m   3081\u001b[0m             \u001b[0;32mexcept\u001b[0m \u001b[0mKeyError\u001b[0m \u001b[0;32mas\u001b[0m \u001b[0merr\u001b[0m\u001b[0;34m:\u001b[0m\u001b[0;34m\u001b[0m\u001b[0;34m\u001b[0m\u001b[0m\n\u001b[0;32m-> 3082\u001b[0;31m                 \u001b[0;32mraise\u001b[0m \u001b[0mKeyError\u001b[0m\u001b[0;34m(\u001b[0m\u001b[0mkey\u001b[0m\u001b[0;34m)\u001b[0m \u001b[0;32mfrom\u001b[0m \u001b[0merr\u001b[0m\u001b[0;34m\u001b[0m\u001b[0;34m\u001b[0m\u001b[0m\n\u001b[0m\u001b[1;32m   3083\u001b[0m \u001b[0;34m\u001b[0m\u001b[0m\n\u001b[1;32m   3084\u001b[0m         \u001b[0;32mif\u001b[0m \u001b[0mtolerance\u001b[0m \u001b[0;32mis\u001b[0m \u001b[0;32mnot\u001b[0m \u001b[0;32mNone\u001b[0m\u001b[0;34m:\u001b[0m\u001b[0;34m\u001b[0m\u001b[0;34m\u001b[0m\u001b[0m\n",
      "\u001b[0;31mKeyError\u001b[0m: 'Pneumonia.Deaths'"
     ]
    }
   ],
   "source": [
    " Covid19['CovidDeaths'].corr(Covid19['Pneumonia.Deaths'])"
   ]
  },
  {
   "cell_type": "markdown",
   "id": "8b471125",
   "metadata": {},
   "source": [
    "#### covid deaths and pneumonia deaths are both correlated with age. as age goes up they both go up at similar rate "
   ]
  },
  {
   "cell_type": "markdown",
   "id": "39a5d838",
   "metadata": {},
   "source": [
    "#### The correlation is 0.95: When there are more Covid deaths there are more pnumonia deaths "
   ]
  },
  {
   "cell_type": "markdown",
   "id": "2fa2ea73",
   "metadata": {},
   "source": [
    "## Run a One-Way ANOVA test to compare the means of Covid deaths for each age group\n",
    "\n",
    "### Is there a significant difference in Covid deaths among age groups?\n",
    "\n",
    "#### Null: there is not a significant difference in covid deaths among age groups\n",
    "\n",
    "#### alternative: there is a significant difference in covid deaths among age groups "
   ]
  },
  {
   "cell_type": "markdown",
   "id": "383a2b9a",
   "metadata": {},
   "source": [
    "### Rename Age.Group"
   ]
  },
  {
   "cell_type": "code",
   "execution_count": 37,
   "id": "e4e3498f",
   "metadata": {},
   "outputs": [
    {
     "data": {
      "text/html": [
       "<div>\n",
       "<style scoped>\n",
       "    .dataframe tbody tr th:only-of-type {\n",
       "        vertical-align: middle;\n",
       "    }\n",
       "\n",
       "    .dataframe tbody tr th {\n",
       "        vertical-align: top;\n",
       "    }\n",
       "\n",
       "    .dataframe thead th {\n",
       "        text-align: right;\n",
       "    }\n",
       "</style>\n",
       "<table border=\"1\" class=\"dataframe\">\n",
       "  <thead>\n",
       "    <tr style=\"text-align: right;\">\n",
       "      <th></th>\n",
       "      <th>Unnamed: 0</th>\n",
       "      <th>Year</th>\n",
       "      <th>Country</th>\n",
       "      <th>Sex</th>\n",
       "      <th>AgeGroup</th>\n",
       "      <th>CovidDeaths</th>\n",
       "      <th>PneumoniaDeaths</th>\n",
       "      <th>MonthR</th>\n",
       "      <th>Age.GroupR</th>\n",
       "    </tr>\n",
       "    <tr>\n",
       "      <th>Date</th>\n",
       "      <th></th>\n",
       "      <th></th>\n",
       "      <th></th>\n",
       "      <th></th>\n",
       "      <th></th>\n",
       "      <th></th>\n",
       "      <th></th>\n",
       "      <th></th>\n",
       "      <th></th>\n",
       "    </tr>\n",
       "  </thead>\n",
       "  <tbody>\n",
       "    <tr>\n",
       "      <th>2020-01-01</th>\n",
       "      <td>11036</td>\n",
       "      <td>2020</td>\n",
       "      <td>United States</td>\n",
       "      <td>1</td>\n",
       "      <td>0-17 years</td>\n",
       "      <td>0</td>\n",
       "      <td>50</td>\n",
       "      <td>January</td>\n",
       "      <td>1.0</td>\n",
       "    </tr>\n",
       "    <tr>\n",
       "      <th>2020-01-01</th>\n",
       "      <td>11040</td>\n",
       "      <td>2020</td>\n",
       "      <td>United States</td>\n",
       "      <td>1</td>\n",
       "      <td>18-29 years</td>\n",
       "      <td>0</td>\n",
       "      <td>75</td>\n",
       "      <td>January</td>\n",
       "      <td>2.0</td>\n",
       "    </tr>\n",
       "    <tr>\n",
       "      <th>2020-01-01</th>\n",
       "      <td>11042</td>\n",
       "      <td>2020</td>\n",
       "      <td>United States</td>\n",
       "      <td>1</td>\n",
       "      <td>30-39 years</td>\n",
       "      <td>0</td>\n",
       "      <td>138</td>\n",
       "      <td>January</td>\n",
       "      <td>3.0</td>\n",
       "    </tr>\n",
       "    <tr>\n",
       "      <th>2020-01-01</th>\n",
       "      <td>11044</td>\n",
       "      <td>2020</td>\n",
       "      <td>United States</td>\n",
       "      <td>1</td>\n",
       "      <td>40-49 years</td>\n",
       "      <td>0</td>\n",
       "      <td>261</td>\n",
       "      <td>January</td>\n",
       "      <td>4.0</td>\n",
       "    </tr>\n",
       "    <tr>\n",
       "      <th>2020-01-01</th>\n",
       "      <td>11046</td>\n",
       "      <td>2020</td>\n",
       "      <td>United States</td>\n",
       "      <td>1</td>\n",
       "      <td>50-64 years</td>\n",
       "      <td>1</td>\n",
       "      <td>1430</td>\n",
       "      <td>January</td>\n",
       "      <td>5.0</td>\n",
       "    </tr>\n",
       "    <tr>\n",
       "      <th>...</th>\n",
       "      <td>...</td>\n",
       "      <td>...</td>\n",
       "      <td>...</td>\n",
       "      <td>...</td>\n",
       "      <td>...</td>\n",
       "      <td>...</td>\n",
       "      <td>...</td>\n",
       "      <td>...</td>\n",
       "      <td>...</td>\n",
       "    </tr>\n",
       "    <tr>\n",
       "      <th>2022-02-01</th>\n",
       "      <td>12336</td>\n",
       "      <td>2022</td>\n",
       "      <td>United States</td>\n",
       "      <td>2</td>\n",
       "      <td>40-49 years</td>\n",
       "      <td>298</td>\n",
       "      <td>204</td>\n",
       "      <td>February</td>\n",
       "      <td>4.0</td>\n",
       "    </tr>\n",
       "    <tr>\n",
       "      <th>2022-02-01</th>\n",
       "      <td>12338</td>\n",
       "      <td>2022</td>\n",
       "      <td>United States</td>\n",
       "      <td>2</td>\n",
       "      <td>50-64 years</td>\n",
       "      <td>1743</td>\n",
       "      <td>1195</td>\n",
       "      <td>February</td>\n",
       "      <td>5.0</td>\n",
       "    </tr>\n",
       "    <tr>\n",
       "      <th>2022-02-01</th>\n",
       "      <td>12340</td>\n",
       "      <td>2022</td>\n",
       "      <td>United States</td>\n",
       "      <td>2</td>\n",
       "      <td>65-74 years</td>\n",
       "      <td>2582</td>\n",
       "      <td>1909</td>\n",
       "      <td>February</td>\n",
       "      <td>6.0</td>\n",
       "    </tr>\n",
       "    <tr>\n",
       "      <th>2022-02-01</th>\n",
       "      <td>12341</td>\n",
       "      <td>2022</td>\n",
       "      <td>United States</td>\n",
       "      <td>2</td>\n",
       "      <td>75-84 years</td>\n",
       "      <td>3152</td>\n",
       "      <td>2220</td>\n",
       "      <td>February</td>\n",
       "      <td>7.0</td>\n",
       "    </tr>\n",
       "    <tr>\n",
       "      <th>2022-02-01</th>\n",
       "      <td>12342</td>\n",
       "      <td>2022</td>\n",
       "      <td>United States</td>\n",
       "      <td>2</td>\n",
       "      <td>85 years and over</td>\n",
       "      <td>3605</td>\n",
       "      <td>2341</td>\n",
       "      <td>February</td>\n",
       "      <td>8.0</td>\n",
       "    </tr>\n",
       "  </tbody>\n",
       "</table>\n",
       "<p>416 rows × 9 columns</p>\n",
       "</div>"
      ],
      "text/plain": [
       "            Unnamed: 0  Year       Country   Sex           AgeGroup  \\\n",
       "Date                                                                  \n",
       "2020-01-01       11036  2020  United States    1         0-17 years   \n",
       "2020-01-01       11040  2020  United States    1        18-29 years   \n",
       "2020-01-01       11042  2020  United States    1        30-39 years   \n",
       "2020-01-01       11044  2020  United States    1        40-49 years   \n",
       "2020-01-01       11046  2020  United States    1        50-64 years   \n",
       "...                ...   ...            ...  ...                ...   \n",
       "2022-02-01       12336  2022  United States    2        40-49 years   \n",
       "2022-02-01       12338  2022  United States    2        50-64 years   \n",
       "2022-02-01       12340  2022  United States    2        65-74 years   \n",
       "2022-02-01       12341  2022  United States    2        75-84 years   \n",
       "2022-02-01       12342  2022  United States    2  85 years and over   \n",
       "\n",
       "            CovidDeaths  PneumoniaDeaths    MonthR  Age.GroupR  \n",
       "Date                                                            \n",
       "2020-01-01            0               50   January         1.0  \n",
       "2020-01-01            0               75   January         2.0  \n",
       "2020-01-01            0              138   January         3.0  \n",
       "2020-01-01            0              261   January         4.0  \n",
       "2020-01-01            1             1430   January         5.0  \n",
       "...                 ...              ...       ...         ...  \n",
       "2022-02-01          298              204  February         4.0  \n",
       "2022-02-01         1743             1195  February         5.0  \n",
       "2022-02-01         2582             1909  February         6.0  \n",
       "2022-02-01         3152             2220  February         7.0  \n",
       "2022-02-01         3605             2341  February         8.0  \n",
       "\n",
       "[416 rows x 9 columns]"
      ]
     },
     "execution_count": 37,
     "metadata": {},
     "output_type": "execute_result"
    }
   ],
   "source": [
    "Covid19.rename({\"Age.Group\" : \"AgeGroup\"}, axis=1, inplace=True)\n",
    "Covid19"
   ]
  },
  {
   "cell_type": "markdown",
   "id": "07ee0e1a",
   "metadata": {},
   "source": [
    "### Look at the value counts for age group to determine all categories "
   ]
  },
  {
   "cell_type": "code",
   "execution_count": 38,
   "id": "459772bc",
   "metadata": {},
   "outputs": [
    {
     "data": {
      "text/plain": [
       "65-74 years          52\n",
       "18-29 years          52\n",
       "30-39 years          52\n",
       "85 years and over    52\n",
       "75-84 years          52\n",
       "40-49 years          52\n",
       "50-64 years          52\n",
       "0-17 years           52\n",
       "Name: AgeGroup, dtype: int64"
      ]
     },
     "execution_count": 38,
     "metadata": {},
     "output_type": "execute_result"
    }
   ],
   "source": [
    "Covid19.AgeGroup.value_counts()"
   ]
  },
  {
   "cell_type": "markdown",
   "id": "d30eeafe",
   "metadata": {},
   "source": [
    "### state the categories that will be used for ANOVA"
   ]
  },
  {
   "cell_type": "code",
   "execution_count": 39,
   "id": "3ac1a5c9",
   "metadata": {},
   "outputs": [],
   "source": [
    "categories = ['0-17 years', '18-29 years', '30-39 years', '40-49 years', '50-64 years', '65-74 years', '75-84 years', '85 years and over']\n",
    "Covid1 = Covid19['AgeGroup'].isin(categories)\n",
    "Covid2 = Covid19[Covid1].copy()"
   ]
  },
  {
   "cell_type": "markdown",
   "id": "ea848812",
   "metadata": {},
   "source": [
    "### Subset the varibales needed for ANOVA"
   ]
  },
  {
   "cell_type": "code",
   "execution_count": 40,
   "id": "0dccce8e",
   "metadata": {},
   "outputs": [
    {
     "data": {
      "text/html": [
       "<div>\n",
       "<style scoped>\n",
       "    .dataframe tbody tr th:only-of-type {\n",
       "        vertical-align: middle;\n",
       "    }\n",
       "\n",
       "    .dataframe tbody tr th {\n",
       "        vertical-align: top;\n",
       "    }\n",
       "\n",
       "    .dataframe thead th {\n",
       "        text-align: right;\n",
       "    }\n",
       "</style>\n",
       "<table border=\"1\" class=\"dataframe\">\n",
       "  <thead>\n",
       "    <tr style=\"text-align: right;\">\n",
       "      <th></th>\n",
       "      <th>AgeGroup</th>\n",
       "      <th>CovidDeaths</th>\n",
       "    </tr>\n",
       "    <tr>\n",
       "      <th>Date</th>\n",
       "      <th></th>\n",
       "      <th></th>\n",
       "    </tr>\n",
       "  </thead>\n",
       "  <tbody>\n",
       "    <tr>\n",
       "      <th>2020-01-01</th>\n",
       "      <td>0-17 years</td>\n",
       "      <td>0</td>\n",
       "    </tr>\n",
       "    <tr>\n",
       "      <th>2020-01-01</th>\n",
       "      <td>18-29 years</td>\n",
       "      <td>0</td>\n",
       "    </tr>\n",
       "    <tr>\n",
       "      <th>2020-01-01</th>\n",
       "      <td>30-39 years</td>\n",
       "      <td>0</td>\n",
       "    </tr>\n",
       "    <tr>\n",
       "      <th>2020-01-01</th>\n",
       "      <td>40-49 years</td>\n",
       "      <td>0</td>\n",
       "    </tr>\n",
       "    <tr>\n",
       "      <th>2020-01-01</th>\n",
       "      <td>50-64 years</td>\n",
       "      <td>1</td>\n",
       "    </tr>\n",
       "  </tbody>\n",
       "</table>\n",
       "</div>"
      ],
      "text/plain": [
       "               AgeGroup  CovidDeaths\n",
       "Date                                \n",
       "2020-01-01   0-17 years            0\n",
       "2020-01-01  18-29 years            0\n",
       "2020-01-01  30-39 years            0\n",
       "2020-01-01  40-49 years            0\n",
       "2020-01-01  50-64 years            1"
      ]
     },
     "execution_count": 40,
     "metadata": {},
     "output_type": "execute_result"
    }
   ],
   "source": [
    "Covid3 = Covid2[['AgeGroup', 'CovidDeaths']]\n",
    "Covid3.head()"
   ]
  },
  {
   "cell_type": "markdown",
   "id": "0213c71a",
   "metadata": {},
   "source": [
    "### make sure that CovidDeaths is an integer"
   ]
  },
  {
   "cell_type": "code",
   "execution_count": 41,
   "id": "a14d575f",
   "metadata": {},
   "outputs": [
    {
     "name": "stdout",
     "output_type": "stream",
     "text": [
      "<class 'pandas.core.frame.DataFrame'>\n",
      "DatetimeIndex: 416 entries, 2020-01-01 to 2022-02-01\n",
      "Data columns (total 2 columns):\n",
      " #   Column       Non-Null Count  Dtype \n",
      "---  ------       --------------  ----- \n",
      " 0   AgeGroup     416 non-null    object\n",
      " 1   CovidDeaths  416 non-null    int64 \n",
      "dtypes: int64(1), object(1)\n",
      "memory usage: 9.8+ KB\n"
     ]
    }
   ],
   "source": [
    "Covid3.info()"
   ]
  },
  {
   "cell_type": "markdown",
   "id": "c649ba9d",
   "metadata": {},
   "source": [
    "#### CovidDeaths is an integer "
   ]
  },
  {
   "cell_type": "markdown",
   "id": "d47ddd68",
   "metadata": {},
   "source": [
    "### Recode categories into a number "
   ]
  },
  {
   "cell_type": "code",
   "execution_count": 42,
   "id": "cf7d9ae3",
   "metadata": {},
   "outputs": [
    {
     "data": {
      "text/plain": [
       "65-74 years          52\n",
       "18-29 years          52\n",
       "30-39 years          52\n",
       "85 years and over    52\n",
       "75-84 years          52\n",
       "40-49 years          52\n",
       "50-64 years          52\n",
       "0-17 years           52\n",
       "Name: AgeGroup, dtype: int64"
      ]
     },
     "execution_count": 42,
     "metadata": {},
     "output_type": "execute_result"
    }
   ],
   "source": [
    "Covid3.AgeGroup.value_counts()"
   ]
  },
  {
   "cell_type": "code",
   "execution_count": 43,
   "id": "a7fcd932",
   "metadata": {},
   "outputs": [
    {
     "name": "stderr",
     "output_type": "stream",
     "text": [
      "<ipython-input-43-e1eabb06be65>:18: SettingWithCopyWarning: \n",
      "A value is trying to be set on a copy of a slice from a DataFrame.\n",
      "Try using .loc[row_indexer,col_indexer] = value instead\n",
      "\n",
      "See the caveats in the documentation: https://pandas.pydata.org/pandas-docs/stable/user_guide/indexing.html#returning-a-view-versus-a-copy\n",
      "  Covid3['AgeGroupR'] = Covid3['AgeGroup'].apply(recode)\n"
     ]
    },
    {
     "data": {
      "text/html": [
       "<div>\n",
       "<style scoped>\n",
       "    .dataframe tbody tr th:only-of-type {\n",
       "        vertical-align: middle;\n",
       "    }\n",
       "\n",
       "    .dataframe tbody tr th {\n",
       "        vertical-align: top;\n",
       "    }\n",
       "\n",
       "    .dataframe thead th {\n",
       "        text-align: right;\n",
       "    }\n",
       "</style>\n",
       "<table border=\"1\" class=\"dataframe\">\n",
       "  <thead>\n",
       "    <tr style=\"text-align: right;\">\n",
       "      <th></th>\n",
       "      <th>AgeGroup</th>\n",
       "      <th>CovidDeaths</th>\n",
       "      <th>AgeGroupR</th>\n",
       "    </tr>\n",
       "    <tr>\n",
       "      <th>Date</th>\n",
       "      <th></th>\n",
       "      <th></th>\n",
       "      <th></th>\n",
       "    </tr>\n",
       "  </thead>\n",
       "  <tbody>\n",
       "    <tr>\n",
       "      <th>2020-01-01</th>\n",
       "      <td>0-17 years</td>\n",
       "      <td>0</td>\n",
       "      <td>0</td>\n",
       "    </tr>\n",
       "    <tr>\n",
       "      <th>2020-01-01</th>\n",
       "      <td>18-29 years</td>\n",
       "      <td>0</td>\n",
       "      <td>1</td>\n",
       "    </tr>\n",
       "    <tr>\n",
       "      <th>2020-01-01</th>\n",
       "      <td>30-39 years</td>\n",
       "      <td>0</td>\n",
       "      <td>2</td>\n",
       "    </tr>\n",
       "    <tr>\n",
       "      <th>2020-01-01</th>\n",
       "      <td>40-49 years</td>\n",
       "      <td>0</td>\n",
       "      <td>3</td>\n",
       "    </tr>\n",
       "    <tr>\n",
       "      <th>2020-01-01</th>\n",
       "      <td>50-64 years</td>\n",
       "      <td>1</td>\n",
       "      <td>4</td>\n",
       "    </tr>\n",
       "  </tbody>\n",
       "</table>\n",
       "</div>"
      ],
      "text/plain": [
       "               AgeGroup  CovidDeaths  AgeGroupR\n",
       "Date                                           \n",
       "2020-01-01   0-17 years            0          0\n",
       "2020-01-01  18-29 years            0          1\n",
       "2020-01-01  30-39 years            0          2\n",
       "2020-01-01  40-49 years            0          3\n",
       "2020-01-01  50-64 years            1          4"
      ]
     },
     "execution_count": 43,
     "metadata": {},
     "output_type": "execute_result"
    }
   ],
   "source": [
    "def recode(series):\n",
    "    if series == \"0-17 years\":\n",
    "        return 0 \n",
    "    if series == \"18-29 years\":\n",
    "        return 1 \n",
    "    if series == \"30-39 years\":\n",
    "        return 2\n",
    "    if series == \"40-49 years\":\n",
    "        return 3\n",
    "    if series == \"50-64 years\":\n",
    "        return 4\n",
    "    if series == \"65-74 years\":\n",
    "        return 5 \n",
    "    if series == \"75-84 years\":\n",
    "        return 6 \n",
    "    if series == \"85 years and over\":\n",
    "        return 7 \n",
    "Covid3['AgeGroupR'] = Covid3['AgeGroup'].apply(recode)\n",
    "Covid3.head()"
   ]
  },
  {
   "cell_type": "markdown",
   "id": "66ede718",
   "metadata": {},
   "source": [
    "### Drop the AgeGroup "
   ]
  },
  {
   "cell_type": "code",
   "execution_count": 44,
   "id": "6ecde3f0",
   "metadata": {},
   "outputs": [
    {
     "data": {
      "text/html": [
       "<div>\n",
       "<style scoped>\n",
       "    .dataframe tbody tr th:only-of-type {\n",
       "        vertical-align: middle;\n",
       "    }\n",
       "\n",
       "    .dataframe tbody tr th {\n",
       "        vertical-align: top;\n",
       "    }\n",
       "\n",
       "    .dataframe thead th {\n",
       "        text-align: right;\n",
       "    }\n",
       "</style>\n",
       "<table border=\"1\" class=\"dataframe\">\n",
       "  <thead>\n",
       "    <tr style=\"text-align: right;\">\n",
       "      <th></th>\n",
       "      <th>AgeGroupR</th>\n",
       "      <th>CovidDeaths</th>\n",
       "    </tr>\n",
       "    <tr>\n",
       "      <th>Date</th>\n",
       "      <th></th>\n",
       "      <th></th>\n",
       "    </tr>\n",
       "  </thead>\n",
       "  <tbody>\n",
       "    <tr>\n",
       "      <th>2020-01-01</th>\n",
       "      <td>0</td>\n",
       "      <td>0</td>\n",
       "    </tr>\n",
       "    <tr>\n",
       "      <th>2020-01-01</th>\n",
       "      <td>1</td>\n",
       "      <td>0</td>\n",
       "    </tr>\n",
       "    <tr>\n",
       "      <th>2020-01-01</th>\n",
       "      <td>2</td>\n",
       "      <td>0</td>\n",
       "    </tr>\n",
       "    <tr>\n",
       "      <th>2020-01-01</th>\n",
       "      <td>3</td>\n",
       "      <td>0</td>\n",
       "    </tr>\n",
       "    <tr>\n",
       "      <th>2020-01-01</th>\n",
       "      <td>4</td>\n",
       "      <td>1</td>\n",
       "    </tr>\n",
       "  </tbody>\n",
       "</table>\n",
       "</div>"
      ],
      "text/plain": [
       "            AgeGroupR  CovidDeaths\n",
       "Date                              \n",
       "2020-01-01          0            0\n",
       "2020-01-01          1            0\n",
       "2020-01-01          2            0\n",
       "2020-01-01          3            0\n",
       "2020-01-01          4            1"
      ]
     },
     "execution_count": 44,
     "metadata": {},
     "output_type": "execute_result"
    }
   ],
   "source": [
    "Covid4 = Covid3[['AgeGroupR', 'CovidDeaths']]\n",
    "Covid4.head()"
   ]
  },
  {
   "cell_type": "markdown",
   "id": "7e325daa",
   "metadata": {},
   "source": [
    "### Test for normality "
   ]
  },
  {
   "cell_type": "code",
   "execution_count": 45,
   "id": "0953f386",
   "metadata": {},
   "outputs": [
    {
     "name": "stderr",
     "output_type": "stream",
     "text": [
      "/Users/Aims/opt/anaconda3/lib/python3.8/site-packages/seaborn/distributions.py:2557: FutureWarning: `distplot` is a deprecated function and will be removed in a future version. Please adapt your code to use either `displot` (a figure-level function with similar flexibility) or `histplot` (an axes-level function for histograms).\n",
      "  warnings.warn(msg, FutureWarning)\n"
     ]
    },
    {
     "data": {
      "text/plain": [
       "<AxesSubplot:xlabel='CovidDeaths', ylabel='Density'>"
      ]
     },
     "execution_count": 45,
     "metadata": {},
     "output_type": "execute_result"
    },
    {
     "data": {
      "image/png": "[encoded data removed]",
      "text/plain": [
       "<Figure size 432x288 with 1 Axes>"
      ]
     },
     "metadata": {
      "needs_background": "light"
     },
     "output_type": "display_data"
    }
   ],
   "source": [
    "sns.distplot(Covid4['CovidDeaths'])"
   ]
  },
  {
   "cell_type": "markdown",
   "id": "81e9cf3a",
   "metadata": {},
   "source": [
    "### Square root to get normality "
   ]
  },
  {
   "cell_type": "code",
   "execution_count": 46,
   "id": "640fc963",
   "metadata": {},
   "outputs": [],
   "source": [
    "Covid4['CovidDeathsSQRT'] = np.sqrt(Covid4['CovidDeaths'])"
   ]
  },
  {
   "cell_type": "code",
   "execution_count": 47,
   "id": "69a37809",
   "metadata": {},
   "outputs": [
    {
     "name": "stderr",
     "output_type": "stream",
     "text": [
      "/Users/Aims/opt/anaconda3/lib/python3.8/site-packages/seaborn/distributions.py:2557: FutureWarning: `distplot` is a deprecated function and will be removed in a future version. Please adapt your code to use either `displot` (a figure-level function with similar flexibility) or `histplot` (an axes-level function for histograms).\n",
      "  warnings.warn(msg, FutureWarning)\n"
     ]
    },
    {
     "data": {
      "text/plain": [
       "<AxesSubplot:xlabel='CovidDeathsSQRT', ylabel='Density'>"
      ]
     },
     "execution_count": 47,
     "metadata": {},
     "output_type": "execute_result"
    },
    {
     "data": {
      "image/png": "[encoded data removed]",
      "text/plain": [
       "<Figure size 432x288 with 1 Axes>"
      ]
     },
     "metadata": {
      "needs_background": "light"
     },
     "output_type": "display_data"
    }
   ],
   "source": [
    "sns.distplot(Covid4['CovidDeathsSQRT'])"
   ]
  },
  {
   "cell_type": "markdown",
   "id": "18c1a121",
   "metadata": {},
   "source": [
    "#### do not use the SQRT as normality is better on the original "
   ]
  },
  {
   "cell_type": "markdown",
   "id": "5a89f144",
   "metadata": {},
   "source": [
    "### Bartletts Test "
   ]
  },
  {
   "cell_type": "code",
   "execution_count": 48,
   "id": "38b520e0",
   "metadata": {},
   "outputs": [
    {
     "data": {
      "text/plain": [
       "BartlettResult(statistic=5436.427101324865, pvalue=0.0)"
      ]
     },
     "execution_count": 48,
     "metadata": {},
     "output_type": "execute_result"
    }
   ],
   "source": [
    "scipy.stats.bartlett(Covid4['CovidDeaths'], Covid4['AgeGroupR'])"
   ]
  },
  {
   "cell_type": "markdown",
   "id": "b48a159b",
   "metadata": {},
   "source": [
    "#### p value is <.05 which means you have violated the assumption of homogeneity of variance \n"
   ]
  },
  {
   "cell_type": "markdown",
   "id": "7f16b49a",
   "metadata": {},
   "source": [
    "### Fligners Test to check p-value "
   ]
  },
  {
   "cell_type": "code",
   "execution_count": 49,
   "id": "11a836f4",
   "metadata": {},
   "outputs": [
    {
     "data": {
      "text/plain": [
       "FlignerResult(statistic=513.1717202205858, pvalue=1.2946229830140042e-113)"
      ]
     },
     "execution_count": 49,
     "metadata": {},
     "output_type": "execute_result"
    }
   ],
   "source": [
    "scipy.stats.fligner(Covid4['CovidDeaths'], Covid4['AgeGroupR'])"
   ]
  },
  {
   "cell_type": "markdown",
   "id": "51177042",
   "metadata": {},
   "source": [
    "#### p value is <.05 meaning you have violated the assumption of homogeneity of variance \n"
   ]
  },
  {
   "cell_type": "markdown",
   "id": "99770d91",
   "metadata": {},
   "source": [
    "### Compute Post Hocs with Tukeys but be cautious "
   ]
  },
  {
   "cell_type": "code",
   "execution_count": 50,
   "id": "8a022767",
   "metadata": {},
   "outputs": [
    {
     "name": "stdout",
     "output_type": "stream",
     "text": [
      "   Multiple Comparison of Means - Tukey HSD, FWER=0.05    \n",
      "==========================================================\n",
      "group1 group2  meandiff p-adj    lower      upper   reject\n",
      "----------------------------------------------------------\n",
      "     0      1      96.0    0.9 -1431.5623 1623.5623  False\n",
      "     0      2  311.9231    0.9 -1215.6392 1839.4853  False\n",
      "     0      3  769.8654  0.761  -757.6969 2297.4276  False\n",
      "     0      4 3391.3077  0.001  1863.7454 4918.8699   True\n",
      "     0      5 4148.0577  0.001  2620.4954 5675.6199   True\n",
      "     0      6 4660.4231  0.001  3132.8608 6187.9853   True\n",
      "     0      7 4655.6923  0.001  3128.1301 6183.2546   True\n",
      "     1      2  215.9231    0.9 -1311.6392 1743.4853  False\n",
      "     1      3  673.8654 0.8748  -853.6969 2201.4276  False\n",
      "     1      4 3295.3077  0.001  1767.7454 4822.8699   True\n",
      "     1      5 4052.0577  0.001  2524.4954 5579.6199   True\n",
      "     1      6 4564.4231  0.001  3036.8608 6091.9853   True\n",
      "     1      7 4559.6923  0.001  3032.1301 6087.2546   True\n",
      "     2      3  457.9423    0.9 -1069.6199 1985.5046  False\n",
      "     2      4 3079.3846  0.001  1551.8224 4606.9469   True\n",
      "     2      5 3836.1346  0.001  2308.5724 5363.6969   True\n",
      "     2      6    4348.5  0.001  2820.9377 5876.0623   True\n",
      "     2      7 4343.7692  0.001   2816.207 5871.3315   True\n",
      "     3      4 2621.4423  0.001  1093.8801 4149.0046   True\n",
      "     3      5 3378.1923  0.001  1850.6301 4905.7546   True\n",
      "     3      6 3890.5577  0.001  2362.9954 5418.1199   True\n",
      "     3      7 3885.8269  0.001  2358.2647 5413.3892   True\n",
      "     4      5    756.75 0.7765  -770.8123 2284.3123  False\n",
      "     4      6 1269.1154 0.1851  -258.4469 2796.6776  False\n",
      "     4      7 1264.3846  0.189  -263.1776 2791.9469  False\n",
      "     5      6  512.3654    0.9 -1015.1969 2039.9276  False\n",
      "     5      7  507.6346    0.9 -1019.9276 2035.1969  False\n",
      "     6      7   -4.7308    0.9  -1532.293 1522.8315  False\n",
      "----------------------------------------------------------\n"
     ]
    }
   ],
   "source": [
    "postHoc = MultiComparison(Covid4['CovidDeaths'], Covid4['AgeGroupR'])\n",
    "postHocResults = postHoc.tukeyhsd()\n",
    "print(postHocResults)"
   ]
  },
  {
   "cell_type": "markdown",
   "id": "956bf7f7",
   "metadata": {},
   "source": [
    "#### there is a significant difference of covid deaths in people who are 50 and older vs people who are 50 and younger \n",
    "\n",
    "#### there is not a signigicant difference of covid deaths in age groups that are under 50 \n",
    "\n",
    "#### there is not a significant difference of covid deaths in age groups that are over 50 "
   ]
  },
  {
   "cell_type": "markdown",
   "id": "64c91f04",
   "metadata": {},
   "source": [
    "# Fine the SD for CovidDeaths"
   ]
  },
  {
   "cell_type": "code",
   "execution_count": null,
   "id": "15f1a60a",
   "metadata": {},
   "outputs": [],
   "source": [
    "print(Covid19['CovidDeaths'].std())"
   ]
  },
  {
   "cell_type": "code",
   "execution_count": null,
   "id": "68ca0b9c",
   "metadata": {},
   "outputs": [],
   "source": [
    "print(Covid19['Pneumonia.Deaths'].std())"
   ]
  },
  {
   "cell_type": "code",
   "execution_count": null,
   "id": "855f94c4",
   "metadata": {},
   "outputs": [],
   "source": [
    "norm_data = pd.DataFrame(np.random.normal(size=10000))\n",
    "\n",
    "norm_data.plot(kind=\"density\",\n",
    "              figsize=(10,10));\n",
    "\n",
    "plt.vlines(norm_data.mean(),\n",
    "          ymin=0,\n",
    "          ymax=0.4,\n",
    "          linewidth=5.0);\n",
    "\n",
    "plt.vlines(norm_data.std(),\n",
    "          ymin=0,\n",
    "          ymax=0.4,\n",
    "          linewidth=2.0,\n",
    "          color=\"red\");"
   ]
  },
  {
   "cell_type": "markdown",
   "id": "6223415b",
   "metadata": {},
   "source": [
    "### STD is in the 1st sigma meaning that the mean is correct "
   ]
  },
  {
   "cell_type": "code",
   "execution_count": null,
   "id": "ca282139",
   "metadata": {},
   "outputs": [],
   "source": [
    "Covid19.min()"
   ]
  },
  {
   "cell_type": "code",
   "execution_count": 51,
   "id": "79689679",
   "metadata": {},
   "outputs": [
    {
     "data": {
      "text/plain": [
       "Unnamed: 0                     12342\n",
       "Year                            2022\n",
       "Country                United States\n",
       "Sex                                2\n",
       "AgeGroup           85 years and over\n",
       "CovidDeaths                    18666\n",
       "PneumoniaDeaths                11975\n",
       "MonthR                     September\n",
       "Age.GroupR                       8.0\n",
       "dtype: object"
      ]
     },
     "execution_count": 51,
     "metadata": {},
     "output_type": "execute_result"
    }
   ],
   "source": [
    "Covid19.max()"
   ]
  },
  {
   "cell_type": "code",
   "execution_count": null,
   "id": "9bc6cd78",
   "metadata": {},
   "outputs": [],
   "source": []
  }
 ],
 "metadata": {
  "kernelspec": {
   "display_name": "Python 3",
   "language": "python",
   "name": "python3"
  },
  "language_info": {
   "codemirror_mode": {
    "name": "ipython",
    "version": 3
   },
   "file_extension": ".py",
   "mimetype": "text/x-python",
   "name": "python",
   "nbconvert_exporter": "python",
   "pygments_lexer": "ipython3",
   "version": "3.8.8"
  }
 },
 "nbformat": 4,
 "nbformat_minor": 5
}
